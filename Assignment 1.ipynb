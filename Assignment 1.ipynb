{
 "cells": [
  {
   "cell_type": "markdown",
   "id": "7a63d472-bafe-42ae-8027-35090be1b4e3",
   "metadata": {},
   "source": [
    "### Create a list of your favorite movies and print it. Then, append a new movie to the list and print the updated list."
   ]
  },
  {
   "cell_type": "code",
   "execution_count": 1,
   "id": "a0eb1165-e389-478e-a97f-1eebed7d3800",
   "metadata": {},
   "outputs": [],
   "source": [
    "fav_movies = ['The Great Wall', 'One More Shot' ]"
   ]
  },
  {
   "cell_type": "code",
   "execution_count": 2,
   "id": "d068db2b-e5d0-4591-b6c9-710c80b747dc",
   "metadata": {},
   "outputs": [],
   "source": [
    "fav_movies.append('Intersteller')"
   ]
  },
  {
   "cell_type": "code",
   "execution_count": 3,
   "id": "802c7892-c8dd-44a4-b23e-3a863447b77c",
   "metadata": {},
   "outputs": [
    {
     "data": {
      "text/plain": [
       "['The Great Wall', 'One More Shot', 'Intersteller']"
      ]
     },
     "execution_count": 3,
     "metadata": {},
     "output_type": "execute_result"
    }
   ],
   "source": [
    "fav_movies"
   ]
  },
  {
   "cell_type": "markdown",
   "id": "ac465853-4e4a-4068-98b1-161d57847524",
   "metadata": {},
   "source": [
    "### Create a list of integers from 1 to 10 and print it. Calculate the sum of all the numbers in the list and print the result."
   ]
  },
  {
   "cell_type": "code",
   "execution_count": 15,
   "id": "540f61b1-1f29-43b4-8fe9-3e66032e3111",
   "metadata": {},
   "outputs": [],
   "source": [
    "num_list = [x for x in range(1,11)]"
   ]
  },
  {
   "cell_type": "code",
   "execution_count": 16,
   "id": "73b3ae7c-4ab1-4241-a381-8ee3b629183e",
   "metadata": {},
   "outputs": [
    {
     "data": {
      "text/plain": [
       "[1, 2, 3, 4, 5, 6, 7, 8, 9, 10]"
      ]
     },
     "execution_count": 16,
     "metadata": {},
     "output_type": "execute_result"
    }
   ],
   "source": [
    "num_list"
   ]
  },
  {
   "cell_type": "code",
   "execution_count": 17,
   "id": "bdc7210f-3464-4141-a64d-75bc64a74083",
   "metadata": {},
   "outputs": [],
   "source": [
    "sum_of_list = 0 "
   ]
  },
  {
   "cell_type": "code",
   "execution_count": 18,
   "id": "cf3a2be9-515e-481d-8da4-d8e93d4d65f4",
   "metadata": {},
   "outputs": [],
   "source": [
    "for number in num_list:\n",
    "    sum_of_list += number"
   ]
  },
  {
   "cell_type": "code",
   "execution_count": 19,
   "id": "268e0700-5b97-4f17-9811-de5af6ed1033",
   "metadata": {},
   "outputs": [
    {
     "data": {
      "text/plain": [
       "55"
      ]
     },
     "execution_count": 19,
     "metadata": {},
     "output_type": "execute_result"
    }
   ],
   "source": [
    "sum_of_list"
   ]
  },
  {
   "cell_type": "markdown",
   "id": "38a1df81-56fa-4f71-aa42-7c7ad35d8c2e",
   "metadata": {},
   "source": [
    "### Create a list of mixed data types including strings, integers, and floats and print it. Remove the first element from the list and print the modified list."
   ]
  },
  {
   "cell_type": "code",
   "execution_count": 20,
   "id": "ddc3f96e-5f7e-46e7-ac5a-fd568865cb34",
   "metadata": {},
   "outputs": [],
   "source": [
    "random_list= [1,\"2\",3.2]"
   ]
  },
  {
   "cell_type": "code",
   "execution_count": 21,
   "id": "2b9af623-d3c3-4933-a554-ed95e61d6cd4",
   "metadata": {},
   "outputs": [
    {
     "data": {
      "text/plain": [
       "[1, '2', 3.2]"
      ]
     },
     "execution_count": 21,
     "metadata": {},
     "output_type": "execute_result"
    }
   ],
   "source": [
    "random_list"
   ]
  },
  {
   "cell_type": "code",
   "execution_count": 24,
   "id": "ce796dd2-2a03-4aa1-bd2e-143f29c0dec6",
   "metadata": {},
   "outputs": [
    {
     "data": {
      "text/plain": [
       "1"
      ]
     },
     "execution_count": 24,
     "metadata": {},
     "output_type": "execute_result"
    }
   ],
   "source": [
    "random_list.pop(0)"
   ]
  },
  {
   "cell_type": "code",
   "execution_count": 25,
   "id": "21a79061-5850-4781-bb68-dddc3dc6a4c5",
   "metadata": {},
   "outputs": [
    {
     "data": {
      "text/plain": [
       "['2', 3.2]"
      ]
     },
     "execution_count": 25,
     "metadata": {},
     "output_type": "execute_result"
    }
   ],
   "source": [
    "random_list"
   ]
  },
  {
   "cell_type": "markdown",
   "id": "d119faf1-4bde-4d72-9847-5b36b4a93a97",
   "metadata": {},
   "source": [
    "### Create a tuple containing the names of the days of the week and print it. Access and print the name of the third day."
   ]
  },
  {
   "cell_type": "code",
   "execution_count": 27,
   "id": "7e610434-a746-416c-b583-9e87625301bb",
   "metadata": {},
   "outputs": [
    {
     "data": {
      "text/plain": [
       "('Sunday', 'Monday', 'Tuesday', 'Wednesday', 'Thursday', 'Friday', 'Saturday')"
      ]
     },
     "execution_count": 27,
     "metadata": {},
     "output_type": "execute_result"
    }
   ],
   "source": [
    "days_list = ('Sunday','Monday','Tuesday','Wednesday','Thursday','Friday','Saturday')\n",
    "days_list"
   ]
  },
  {
   "cell_type": "code",
   "execution_count": 28,
   "id": "c9ff40f2-0684-480d-832d-7b51dc43bafe",
   "metadata": {},
   "outputs": [
    {
     "name": "stdout",
     "output_type": "stream",
     "text": [
      "Tuesday\n"
     ]
    }
   ],
   "source": [
    "print(days_list[2])"
   ]
  },
  {
   "cell_type": "markdown",
   "id": "2f780016-4591-4b48-a06b-a8f4ed9ee089",
   "metadata": {},
   "source": [
    "### Create a tuple of your favorite colors and print it. Check if a certain color is present in the tuple and print the result."
   ]
  },
  {
   "cell_type": "code",
   "execution_count": 30,
   "id": "d64d57f9-ea7b-48f6-9451-47dc0f38e3c2",
   "metadata": {},
   "outputs": [
    {
     "data": {
      "text/plain": [
       "('Black', 'Blue', 'Green')"
      ]
     },
     "execution_count": 30,
     "metadata": {},
     "output_type": "execute_result"
    }
   ],
   "source": [
    "colors = (\"Black\", \"Blue\", \"Green\")\n",
    "colors"
   ]
  },
  {
   "cell_type": "code",
   "execution_count": 31,
   "id": "23830f8f-97c5-4235-a857-fdf6a7797ccc",
   "metadata": {},
   "outputs": [
    {
     "name": "stdout",
     "output_type": "stream",
     "text": [
      "Black\n"
     ]
    }
   ],
   "source": [
    "for color in colors:\n",
    "    if color == \"Black\":\n",
    "        print(color)"
   ]
  },
  {
   "cell_type": "code",
   "execution_count": 32,
   "id": "66593d40-53e4-4998-91e3-06e479e238fd",
   "metadata": {},
   "outputs": [],
   "source": [
    "fav_color = \"Blue\""
   ]
  },
  {
   "cell_type": "code",
   "execution_count": 33,
   "id": "febf0042-fcdd-4c18-b1a3-af5378f695d0",
   "metadata": {},
   "outputs": [],
   "source": [
    "is_present = fav_color in colors"
   ]
  },
  {
   "cell_type": "code",
   "execution_count": 34,
   "id": "d15e54f8-4a05-45eb-bc5c-d920f86bb114",
   "metadata": {},
   "outputs": [
    {
     "name": "stdout",
     "output_type": "stream",
     "text": [
      "Blue is present in ('Black', 'Blue', 'Green')\n"
     ]
    }
   ],
   "source": [
    "if is_present:\n",
    "    print(f\"{fav_color} is present in {colors}\")"
   ]
  },
  {
   "cell_type": "markdown",
   "id": "3a4014dd-02e8-4fcc-99ac-b321b7098944",
   "metadata": {},
   "source": [
    "### Create a dictionary representing the information of a book with keys \"title\", \"author\", and \"year\" and print it. Update the year of the book and print the updated dictionary."
   ]
  },
  {
   "cell_type": "code",
   "execution_count": 38,
   "id": "0862e898-2dee-472e-a592-5f781027ffa5",
   "metadata": {},
   "outputs": [
    {
     "data": {
      "text/plain": [
       "{'title': 'Alchemist', 'author': 'Nikesh Bista', 'year': 1990}"
      ]
     },
     "execution_count": 38,
     "metadata": {},
     "output_type": "execute_result"
    }
   ],
   "source": [
    "book_dict = {'title':'Alchemist' , 'author': 'Nikesh Bista','year':1990}\n",
    "book_dict"
   ]
  },
  {
   "cell_type": "code",
   "execution_count": 40,
   "id": "49f10f5b-f9a4-4084-baec-2a9c3774b575",
   "metadata": {},
   "outputs": [
    {
     "data": {
      "text/plain": [
       "{'title': 'Alchemist', 'author': 'Nikesh Bista', 'year': 2000}"
      ]
     },
     "execution_count": 40,
     "metadata": {},
     "output_type": "execute_result"
    }
   ],
   "source": [
    "book_dict['year'] = 2000\n",
    "book_dict"
   ]
  },
  {
   "cell_type": "markdown",
   "id": "d30e14db-8dc9-4875-89c8-f5d1b480fa74",
   "metadata": {},
   "source": [
    "### Create a dictionary containing the names of fruits as keys and their corresponding colors as values and print it. Add a new fruit-color pair to the dictionary and print the updated dictionary."
   ]
  },
  {
   "cell_type": "code",
   "execution_count": 41,
   "id": "6c92c8aa-23e4-4ee8-b90b-4b7183ab6b35",
   "metadata": {},
   "outputs": [
    {
     "data": {
      "text/plain": [
       "{'Watermelon': 'red', 'apple': 'blue', 'banana': 'yellow'}"
      ]
     },
     "execution_count": 41,
     "metadata": {},
     "output_type": "execute_result"
    }
   ],
   "source": [
    "fruits_dict = {'Watermelon':'red','apple':'blue', 'banana':'yellow'}\n",
    "fruits_dict"
   ]
  },
  {
   "cell_type": "code",
   "execution_count": 43,
   "id": "a857348a-b934-4993-ac92-8915ccd9424a",
   "metadata": {},
   "outputs": [
    {
     "data": {
      "text/plain": [
       "{'Watermelon': 'red', 'apple': 'red', 'banana': 'yellow'}"
      ]
     },
     "execution_count": 43,
     "metadata": {},
     "output_type": "execute_result"
    }
   ],
   "source": [
    "fruits_dict['apple'] = 'red'\n",
    "fruits_dict"
   ]
  },
  {
   "cell_type": "markdown",
   "id": "da7f4297-b8e5-4b14-9b48-d421c3a79eb4",
   "metadata": {},
   "source": [
    "### Create a dictionary representing the population of different cities with keys as city names and values as population numbers and print it. Remove a city from the dictionary and print the modified dictionary."
   ]
  },
  {
   "cell_type": "code",
   "execution_count": 45,
   "id": "fd2b293d-aeab-4c5d-83f3-6860d8d46c8e",
   "metadata": {},
   "outputs": [
    {
     "data": {
      "text/plain": [
       "{'Kathmandu': 123000, 'Pokhara': 70000, 'Mustang': 1000}"
      ]
     },
     "execution_count": 45,
     "metadata": {},
     "output_type": "execute_result"
    }
   ],
   "source": [
    "cities = {'Kathmandu':123000 , 'Pokhara' :70000 , 'Mustang' : 1000}\n",
    "cities"
   ]
  },
  {
   "cell_type": "code",
   "execution_count": 46,
   "id": "ff4d5e23-9634-4038-aca4-87d99811c9ca",
   "metadata": {},
   "outputs": [
    {
     "data": {
      "text/plain": [
       "1000"
      ]
     },
     "execution_count": 46,
     "metadata": {},
     "output_type": "execute_result"
    }
   ],
   "source": [
    "cities.pop('Mustang')"
   ]
  },
  {
   "cell_type": "code",
   "execution_count": 47,
   "id": "b2712a87-7b52-4c5c-9a33-890c65411276",
   "metadata": {},
   "outputs": [
    {
     "data": {
      "text/plain": [
       "{'Kathmandu': 123000, 'Pokhara': 70000}"
      ]
     },
     "execution_count": 47,
     "metadata": {},
     "output_type": "execute_result"
    }
   ],
   "source": [
    "cities"
   ]
  },
  {
   "cell_type": "code",
   "execution_count": null,
   "id": "aee7a4d9-48cf-48cb-a9a6-cc943158f9f6",
   "metadata": {},
   "outputs": [],
   "source": []
  }
 ],
 "metadata": {
  "kernelspec": {
   "display_name": "Python 3 (ipykernel)",
   "language": "python",
   "name": "python3"
  },
  "language_info": {
   "codemirror_mode": {
    "name": "ipython",
    "version": 3
   },
   "file_extension": ".py",
   "mimetype": "text/x-python",
   "name": "python",
   "nbconvert_exporter": "python",
   "pygments_lexer": "ipython3",
   "version": "3.11.7"
  }
 },
 "nbformat": 4,
 "nbformat_minor": 5
}
