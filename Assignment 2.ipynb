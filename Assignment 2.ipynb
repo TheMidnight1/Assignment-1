{
 "cells": [
  {
   "cell_type": "markdown",
   "id": "cc8e9dae-60c2-4f0f-a035-0e5a6c9c4447",
   "metadata": {},
   "source": [
    "### Array Creation"
   ]
  },
  {
   "cell_type": "markdown",
   "id": "4667a46b-a8bc-44e4-a68d-8b241a4d7241",
   "metadata": {},
   "source": [
    "#### Create a 1-dimensional array of integers from 1 to 10."
   ]
  },
  {
   "cell_type": "code",
   "execution_count": 1,
   "id": "bf1e8b17-339e-4363-8ab9-2dbf5c79e4fb",
   "metadata": {},
   "outputs": [],
   "source": [
    "import numpy as np"
   ]
  },
  {
   "cell_type": "code",
   "execution_count": 2,
   "id": "87c2c751-f197-41d6-b1ac-6aeec756c09d",
   "metadata": {},
   "outputs": [
    {
     "data": {
      "text/plain": [
       "array([ 1,  2,  3,  4,  5,  6,  7,  8,  9, 10])"
      ]
     },
     "execution_count": 2,
     "metadata": {},
     "output_type": "execute_result"
    }
   ],
   "source": [
    "numpy_array_1 = np.array([x+1 for x in range (10)])\n",
    "numpy_array_1"
   ]
  },
  {
   "cell_type": "markdown",
   "id": "cca15dcf-9292-4845-80ed-e65b0fb6bfa6",
   "metadata": {},
   "source": [
    "#### Create a 1-dimensional array of integers from 1 to 10."
   ]
  },
  {
   "cell_type": "code",
   "execution_count": 3,
   "id": "ea43e162-ac51-4e75-94fd-82b2d8ee2e83",
   "metadata": {},
   "outputs": [
    {
     "data": {
      "text/plain": [
       "array([[0.37454012, 0.95071431, 0.73199394, 0.59865848],\n",
       "       [0.15601864, 0.15599452, 0.05808361, 0.86617615],\n",
       "       [0.60111501, 0.70807258, 0.02058449, 0.96990985]])"
      ]
     },
     "execution_count": 3,
     "metadata": {},
     "output_type": "execute_result"
    }
   ],
   "source": [
    "np.random.seed(42)\n",
    "numpy_array_2 = np.random.rand(3, 4)\n",
    "numpy_array_2"
   ]
  },
  {
   "cell_type": "markdown",
   "id": "330b9154-a6d5-4328-8ac5-1eebac09cd51",
   "metadata": {},
   "source": [
    "#### Create a 3-dimensional array of zeros with shape (2, 3, 4)."
   ]
  },
  {
   "cell_type": "code",
   "execution_count": 4,
   "id": "ff523766-ffcd-447c-9c8b-106aba67a71b",
   "metadata": {},
   "outputs": [
    {
     "data": {
      "text/plain": [
       "array([[[0., 0., 0., 0.],\n",
       "        [0., 0., 0., 0.],\n",
       "        [0., 0., 0., 0.]],\n",
       "\n",
       "       [[0., 0., 0., 0.],\n",
       "        [0., 0., 0., 0.],\n",
       "        [0., 0., 0., 0.]]])"
      ]
     },
     "execution_count": 4,
     "metadata": {},
     "output_type": "execute_result"
    }
   ],
   "source": [
    "np.random.seed(42)\n",
    "numpy_array_2 = np.zeros((2,3,4))\n",
    "numpy_array_2"
   ]
  },
  {
   "cell_type": "markdown",
   "id": "c3131572-a956-4b35-9ada-da7263746bdd",
   "metadata": {},
   "source": [
    "### Array Operations:"
   ]
  },
  {
   "cell_type": "markdown",
   "id": "9aad0741-7038-4b80-a031-e261a252a21c",
   "metadata": {},
   "source": [
    "#### Given two 1-dimensional arrays, perform element-wise addition, subtraction, multiplication, and division."
   ]
  },
  {
   "cell_type": "code",
   "execution_count": 5,
   "id": "4d0f322e-d6a9-4c7b-ac29-8495c396d46b",
   "metadata": {},
   "outputs": [
    {
     "name": "stdout",
     "output_type": "stream",
     "text": [
      "[ 1  2  3  4  5  6  7  8  9 10]\n",
      "-------------------------------\n",
      "[11 12 13 14 15 16 17 18 19 20]\n"
     ]
    }
   ],
   "source": [
    "numpy_array_3 = np.array([x+1 for x in range(10)])\n",
    "numpy_array_4 = np.array([x+1 for x in range(10,20)])\n",
    "print(numpy_array_3)\n",
    "print('-------------------------------')\n",
    "print(numpy_array_4)\n"
   ]
  },
  {
   "cell_type": "code",
   "execution_count": 6,
   "id": "b20b39d2-15fe-4fcb-88f4-9a5b3b94ea55",
   "metadata": {},
   "outputs": [],
   "source": [
    "addition = numpy_array_3 + numpy_array_4\n",
    "subtraction = numpy_array_3 - numpy_array_4\n",
    "multiplication = numpy_array_3 * numpy_array_4\n",
    "division = numpy_array_3 / numpy_array_4"
   ]
  },
  {
   "cell_type": "code",
   "execution_count": 7,
   "id": "6950caa8-a83a-4611-94b9-d82e1e550834",
   "metadata": {},
   "outputs": [
    {
     "name": "stdout",
     "output_type": "stream",
     "text": [
      "Addition: [12 14 16 18 20 22 24 26 28 30]\n",
      "Subtraction: [-10 -10 -10 -10 -10 -10 -10 -10 -10 -10]\n",
      "Multiplication: [ 11  24  39  56  75  96 119 144 171 200]\n",
      "Division: [0.09090909 0.16666667 0.23076923 0.28571429 0.33333333 0.375\n",
      " 0.41176471 0.44444444 0.47368421 0.5       ]\n"
     ]
    }
   ],
   "source": [
    "print(f\"Addition: {addition}\")\n",
    "print(f\"Subtraction: {subtraction}\")\n",
    "print(f\"Multiplication: {multiplication}\")\n",
    "print(f\"Division: {division}\")\n"
   ]
  },
  {
   "cell_type": "markdown",
   "id": "4f596ddc-4206-4d1c-af97-4f0216a9eb98",
   "metadata": {},
   "source": [
    "#### Calculate the mean, median, and standard deviation of a given 1-dimensional array."
   ]
  },
  {
   "cell_type": "code",
   "execution_count": 8,
   "id": "7e150f61-e51c-4179-a723-7ee4294ae518",
   "metadata": {},
   "outputs": [],
   "source": [
    "mean = np.mean(numpy_array_3)\n",
    "median = np.median(numpy_array_3)\n",
    "standard_deviation = np.std(numpy_array_3)"
   ]
  },
  {
   "cell_type": "code",
   "execution_count": 9,
   "id": "c5495d08-6e6b-46f2-8432-12a4fc415eb2",
   "metadata": {},
   "outputs": [
    {
     "name": "stdout",
     "output_type": "stream",
     "text": [
      "Mean: 5.5\n",
      "Median: 5.5\n",
      "Standard Deviation: 2.8722813232690143\n"
     ]
    }
   ],
   "source": [
    "print(f\"Mean: {mean}\")\n",
    "print(f\"Median: {median}\")\n",
    "print(f\"Standard Deviation: {standard_deviation}\")"
   ]
  },
  {
   "cell_type": "markdown",
   "id": "13008e02-cb92-48b8-a3e1-eaf04aa09764",
   "metadata": {},
   "source": [
    "#### Reshape a 1-dimensional array into a 2-dimensional array of shape (3,4)."
   ]
  },
  {
   "cell_type": "code",
   "execution_count": 10,
   "id": "f2865789-7a7e-43e1-bdac-89f9d4254d34",
   "metadata": {},
   "outputs": [
    {
     "data": {
      "text/plain": [
       "array([11, 12, 13, 14, 15, 16, 17, 18, 19, 20])"
      ]
     },
     "execution_count": 10,
     "metadata": {},
     "output_type": "execute_result"
    }
   ],
   "source": [
    "numpy_extended_array = np.append(numpy_array_4,np.array([21,22]))\n",
    "numpy_array_4\n"
   ]
  },
  {
   "cell_type": "code",
   "execution_count": 11,
   "id": "6f090be0-2604-4d80-958c-59796a0d3e44",
   "metadata": {},
   "outputs": [
    {
     "data": {
      "text/plain": [
       "array([[11, 12, 13, 14],\n",
       "       [15, 16, 17, 18],\n",
       "       [19, 20, 21, 22]])"
      ]
     },
     "execution_count": 11,
     "metadata": {},
     "output_type": "execute_result"
    }
   ],
   "source": [
    "reshaped_array_4 = numpy_extended_array.reshape(3,4)\n",
    "reshaped_array_4"
   ]
  },
  {
   "cell_type": "markdown",
   "id": "1ea66400-7fa9-4efb-a512-9e2cc0f9d73b",
   "metadata": {},
   "source": [
    "### Array Indexing and Slicing:"
   ]
  },
  {
   "cell_type": "markdown",
   "id": "bf9a70f8-3c57-4b4b-aee9-5f81daa9da06",
   "metadata": {},
   "source": [
    "#### Extract the first row and last column of a 2-dimensional array."
   ]
  },
  {
   "cell_type": "code",
   "execution_count": 14,
   "id": "f125c101-0c94-4ef9-8c5b-d00837987ee5",
   "metadata": {},
   "outputs": [
    {
     "data": {
      "text/plain": [
       "array([11, 12, 13, 14])"
      ]
     },
     "execution_count": 14,
     "metadata": {},
     "output_type": "execute_result"
    }
   ],
   "source": [
    "first_row = reshaped_array_4[0]\n",
    "first_row"
   ]
  },
  {
   "cell_type": "code",
   "execution_count": 18,
   "id": "8623d85e-80a7-42eb-84a0-3d1f708ef62d",
   "metadata": {},
   "outputs": [
    {
     "data": {
      "text/plain": [
       "array([14, 18, 22])"
      ]
     },
     "execution_count": 18,
     "metadata": {},
     "output_type": "execute_result"
    }
   ],
   "source": [
    "second_row = reshaped_array_4[:,-1]\n",
    "second_row"
   ]
  },
  {
   "cell_type": "markdown",
   "id": "d3a51ba1-450f-49fe-a9fe-17573c39cb1d",
   "metadata": {},
   "source": [
    "#### Reverse the order of elements in a 1-dimensional array."
   ]
  },
  {
   "cell_type": "code",
   "execution_count": 19,
   "id": "0ef937b2-a6b9-489e-b7ce-61363448d358",
   "metadata": {},
   "outputs": [
    {
     "data": {
      "text/plain": [
       "array([10,  9,  8,  7,  6,  5,  4,  3,  2,  1])"
      ]
     },
     "execution_count": 19,
     "metadata": {},
     "output_type": "execute_result"
    }
   ],
   "source": [
    "reversed_array = numpy_array_1[::-1]\n",
    "reversed_array"
   ]
  },
  {
   "cell_type": "markdown",
   "id": "1854a787-7f75-4b64-9b2d-e71bed630186",
   "metadata": {},
   "source": [
    "#### Select elements from a 2-dimensional array that satisfy a specific condition (e.g., values greater than a certain threshold)."
   ]
  },
  {
   "cell_type": "code",
   "execution_count": 25,
   "id": "b3630524-3b19-461b-9252-208b465f88fa",
   "metadata": {},
   "outputs": [
    {
     "data": {
      "text/plain": [
       "array([ 1,  2,  3,  4,  5,  6,  7,  8,  9, 10])"
      ]
     },
     "execution_count": 25,
     "metadata": {},
     "output_type": "execute_result"
    }
   ],
   "source": [
    "condition = numpy_array_3 > 5\n",
    "numpy_array_3\n"
   ]
  },
  {
   "cell_type": "code",
   "execution_count": 24,
   "id": "ec89981d-2158-4fbf-bfc5-216300635377",
   "metadata": {},
   "outputs": [
    {
     "data": {
      "text/plain": [
       "array([ 6,  7,  8,  9, 10])"
      ]
     },
     "execution_count": 24,
     "metadata": {},
     "output_type": "execute_result"
    }
   ],
   "source": [
    "selected_elements = numpy_array_3[condition]\n",
    "selected_elements"
   ]
  },
  {
   "cell_type": "markdown",
   "id": "ee9fcfdc-c165-4dc0-a3b3-746d2631f0f9",
   "metadata": {},
   "source": [
    "### Array Broadcasting:\n"
   ]
  },
  {
   "cell_type": "markdown",
   "id": "78d26c13-9cbe-4106-947b-fe78ad2f00ab",
   "metadata": {},
   "source": [
    "#### Add a scalar value to each element of a 2-dimensional array."
   ]
  },
  {
   "cell_type": "code",
   "execution_count": 26,
   "id": "b831916d-8a31-4881-9ec7-7c61011c1a49",
   "metadata": {},
   "outputs": [],
   "source": [
    "scalar = 10"
   ]
  },
  {
   "cell_type": "code",
   "execution_count": 29,
   "id": "a269dd93-fcb7-45ed-ab74-2120f3e9ab67",
   "metadata": {},
   "outputs": [
    {
     "data": {
      "text/plain": [
       "array([[21, 22, 23, 24],\n",
       "       [25, 26, 27, 28],\n",
       "       [29, 30, 31, 32]])"
      ]
     },
     "execution_count": 29,
     "metadata": {},
     "output_type": "execute_result"
    }
   ],
   "source": [
    "result = reshaped_array_4 + scalar\n",
    "result"
   ]
  },
  {
   "cell_type": "markdown",
   "id": "78e9c314-1b5c-4b2f-92a0-780681b406c5",
   "metadata": {},
   "source": [
    "#### Multiply a 1-dimensional array with a 2-dimensional array, leveraging NumPy's broadcasting rules."
   ]
  },
  {
   "cell_type": "code",
   "execution_count": 30,
   "id": "3aa82185-aca1-4c3e-a816-e089efca50be",
   "metadata": {},
   "outputs": [],
   "source": [
    "arr1d = np.array([1, 2, 3])\n",
    "arr2d = np.array([[4, 5, 6],\n",
    "                  [7, 8, 9],\n",
    "                  [10, 11, 12]])"
   ]
  },
  {
   "cell_type": "code",
   "execution_count": 31,
   "id": "d878c793-f872-47e4-a123-30e44da60af0",
   "metadata": {},
   "outputs": [
    {
     "data": {
      "text/plain": [
       "array([[ 4, 10, 18],\n",
       "       [ 7, 16, 27],\n",
       "       [10, 22, 36]])"
      ]
     },
     "execution_count": 31,
     "metadata": {},
     "output_type": "execute_result"
    }
   ],
   "source": [
    "result = arr2d * arr1d\n",
    "result"
   ]
  },
  {
   "cell_type": "markdown",
   "id": "962f40df-c996-410c-a7a6-b4c226bcd658",
   "metadata": {},
   "source": [
    "### Linear Algebra:"
   ]
  },
  {
   "cell_type": "markdown",
   "id": "7b151ece-ec3e-4937-8b9a-2b62afc4fb27",
   "metadata": {},
   "source": [
    "#### Calculate the dot product of two 1-dimensional arrays."
   ]
  },
  {
   "cell_type": "code",
   "execution_count": 34,
   "id": "754337ca-f218-4c45-a401-6b5b85c3b5b7",
   "metadata": {},
   "outputs": [
    {
     "data": {
      "text/plain": [
       "385"
      ]
     },
     "execution_count": 34,
     "metadata": {},
     "output_type": "execute_result"
    }
   ],
   "source": [
    "dot_product = np.dot(numpy_array_1,numpy_array_3)\n",
    "dot_product"
   ]
  },
  {
   "cell_type": "markdown",
   "id": "928ab5c3-a22d-4e06-964c-91c4791a12aa",
   "metadata": {},
   "source": [
    "#### Compute the matrix multiplication of two 2-dimensional arrays."
   ]
  },
  {
   "cell_type": "code",
   "execution_count": 35,
   "id": "fd4b4316-e151-4a54-aa22-bed857504272",
   "metadata": {},
   "outputs": [],
   "source": [
    "A = np.array([[1, 2],\n",
    "              [3, 4]])\n",
    "\n",
    "B = np.array([[5, 6],\n",
    "              [7, 8]])\n"
   ]
  },
  {
   "cell_type": "code",
   "execution_count": 36,
   "id": "87f9c14e-c0c9-41c7-b1e0-d4b414f9c62b",
   "metadata": {},
   "outputs": [
    {
     "data": {
      "text/plain": [
       "array([[19, 22],\n",
       "       [43, 50]])"
      ]
     },
     "execution_count": 36,
     "metadata": {},
     "output_type": "execute_result"
    }
   ],
   "source": [
    "C = np.matmul(A, B)\n",
    "C"
   ]
  },
  {
   "cell_type": "markdown",
   "id": "6804e881-f84a-4066-8ba5-65f9843a0130",
   "metadata": {},
   "source": [
    "#### Find the inverse and determinant of a square matrix."
   ]
  },
  {
   "cell_type": "code",
   "execution_count": 40,
   "id": "37dc02d0-290b-4c52-a0fa-48119388c025",
   "metadata": {},
   "outputs": [],
   "source": [
    "matrix_a = np.array([[1,2],[3,4]])"
   ]
  },
  {
   "cell_type": "code",
   "execution_count": 42,
   "id": "a72808cb-2b54-443d-ae90-84e3969dfc58",
   "metadata": {},
   "outputs": [
    {
     "data": {
      "text/plain": [
       "array([[-2. ,  1. ],\n",
       "       [ 1.5, -0.5]])"
      ]
     },
     "execution_count": 42,
     "metadata": {},
     "output_type": "execute_result"
    }
   ],
   "source": [
    "A_inv = np.linalg.inv(matrix_a)\n",
    "A_inv"
   ]
  },
  {
   "cell_type": "code",
   "execution_count": 43,
   "id": "90e03736-1948-4ad4-8f51-3847143dc14c",
   "metadata": {},
   "outputs": [
    {
     "data": {
      "text/plain": [
       "-2.0000000000000004"
      ]
     },
     "execution_count": 43,
     "metadata": {},
     "output_type": "execute_result"
    }
   ],
   "source": [
    "a_det= np.linalg.det(matrix_a)\n",
    "a_det"
   ]
  },
  {
   "cell_type": "code",
   "execution_count": null,
   "id": "c5b2d668-57d9-4dc3-98f8-179314b8b47d",
   "metadata": {},
   "outputs": [],
   "source": []
  }
 ],
 "metadata": {
  "kernelspec": {
   "display_name": "Python 3 (ipykernel)",
   "language": "python",
   "name": "python3"
  },
  "language_info": {
   "codemirror_mode": {
    "name": "ipython",
    "version": 3
   },
   "file_extension": ".py",
   "mimetype": "text/x-python",
   "name": "python",
   "nbconvert_exporter": "python",
   "pygments_lexer": "ipython3",
   "version": "3.11.7"
  }
 },
 "nbformat": 4,
 "nbformat_minor": 5
}
