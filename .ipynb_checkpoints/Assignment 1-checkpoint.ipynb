{
 "cells": [
  {
   "cell_type": "markdown",
   "id": "7a63d472-bafe-42ae-8027-35090be1b4e3",
   "metadata": {},
   "source": [
    "### Create a list of your favorite movies and print it. Then, append a new movie to the list and print the updated list."
   ]
  },
  {
   "cell_type": "code",
   "execution_count": 1,
   "id": "a0eb1165-e389-478e-a97f-1eebed7d3800",
   "metadata": {},
   "outputs": [],
   "source": [
    "fav_movies = ['The Great Wall', 'One More Shot' ]"
   ]
  },
  {
   "cell_type": "code",
   "execution_count": 2,
   "id": "d068db2b-e5d0-4591-b6c9-710c80b747dc",
   "metadata": {},
   "outputs": [],
   "source": [
    "fav_movies.append('Intersteller')"
   ]
  },
  {
   "cell_type": "code",
   "execution_count": 3,
   "id": "802c7892-c8dd-44a4-b23e-3a863447b77c",
   "metadata": {},
   "outputs": [
    {
     "data": {
      "text/plain": [
       "['The Great Wall', 'One More Shot', 'Intersteller']"
      ]
     },
     "execution_count": 3,
     "metadata": {},
     "output_type": "execute_result"
    }
   ],
   "source": [
    "fav_movies"
   ]
  },
  {
   "cell_type": "markdown",
   "id": "ac465853-4e4a-4068-98b1-161d57847524",
   "metadata": {},
   "source": [
    "### Create a list of integers from 1 to 10 and print it. Calculate the sum of all the numbers in the list and print the result."
   ]
  },
  {
   "cell_type": "code",
   "execution_count": 7,
   "id": "540f61b1-1f29-43b4-8fe9-3e66032e3111",
   "metadata": {},
   "outputs": [],
   "source": [
    "num_list = [x for x in range(1,11)]"
   ]
  },
  {
   "cell_type": "code",
   "execution_count": 8,
   "id": "73b3ae7c-4ab1-4241-a381-8ee3b629183e",
   "metadata": {},
   "outputs": [
    {
     "data": {
      "text/plain": [
       "[1, 2, 3, 4, 5, 6, 7, 8, 9, 10]"
      ]
     },
     "execution_count": 8,
     "metadata": {},
     "output_type": "execute_result"
    }
   ],
   "source": [
    "num_list"
   ]
  },
  {
   "cell_type": "code",
   "execution_count": 9,
   "id": "bdc7210f-3464-4141-a64d-75bc64a74083",
   "metadata": {},
   "outputs": [],
   "source": [
    "sum_of_list = 0 "
   ]
  },
  {
   "cell_type": "code",
   "execution_count": 11,
   "id": "cf3a2be9-515e-481d-8da4-d8e93d4d65f4",
   "metadata": {},
   "outputs": [],
   "source": [
    "for number in num_list:\n",
    "    sum_of_list += number"
   ]
  },
  {
   "cell_type": "code",
   "execution_count": 12,
   "id": "268e0700-5b97-4f17-9811-de5af6ed1033",
   "metadata": {},
   "outputs": [
    {
     "data": {
      "text/plain": [
       "110"
      ]
     },
     "execution_count": 12,
     "metadata": {},
     "output_type": "execute_result"
    }
   ],
   "source": [
    "sum_of_list"
   ]
  },
  {
   "cell_type": "code",
   "execution_count": null,
   "id": "102a158d-86df-4012-9bcd-91b7e3b3d90a",
   "metadata": {},
   "outputs": [],
   "source": []
  }
 ],
 "metadata": {
  "kernelspec": {
   "display_name": "Python 3 (ipykernel)",
   "language": "python",
   "name": "python3"
  },
  "language_info": {
   "codemirror_mode": {
    "name": "ipython",
    "version": 3
   },
   "file_extension": ".py",
   "mimetype": "text/x-python",
   "name": "python",
   "nbconvert_exporter": "python",
   "pygments_lexer": "ipython3",
   "version": "3.11.7"
  }
 },
 "nbformat": 4,
 "nbformat_minor": 5
}
